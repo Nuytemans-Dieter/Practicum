{
  "nbformat": 4,
  "nbformat_minor": 0,
  "metadata": {
    "colab": {
      "name": "Bonuns Q1.ipynb",
      "provenance": [],
      "collapsed_sections": []
    },
    "kernelspec": {
      "name": "python3",
      "display_name": "Python 3"
    }
  },
  "cells": [
    {
      "cell_type": "code",
      "metadata": {
        "id": "zoqHyUBb3-8Z",
        "colab_type": "code",
        "colab": {
          "base_uri": "https://localhost:8080/",
          "height": 433
        },
        "outputId": "c58264d9-329a-47dd-cded-e750c7c156ff"
      },
      "source": [
        "from __future__ import absolute_import, division, print_function, unicode_literals\n",
        "\n",
        "# TensorFlow and tf.keras\n",
        "import tensorflow as tf\n",
        "from tensorflow import keras\n",
        "\n",
        "# Helper libraries\n",
        "import numpy as np\n",
        "import matplotlib.pyplot as plt\n",
        "\n",
        "mnist = keras.datasets.cifar10\n",
        "(train_images, train_labels), (test_images, test_labels) = mnist.load_data()  # Load data\n",
        "labels = np.arange(10)                                                        # Create labels for each number\n",
        "\n",
        "# Find the range of labels (in an inefficient way)\n",
        "#min = 10\n",
        "#max = 0\n",
        "#for l in train_labels:\n",
        "#  if l < min:\n",
        "#    min = l\n",
        "#  if l > max:\n",
        "#    max = l\n",
        "#print (min)\n",
        "#print (max)\n",
        "\n",
        "# Preprocessing \n",
        "from skimage import color\n",
        "#train_images = color.rgb2gray(train_images) # To grayscale\n",
        "#test_images = color.rgb2gray(test_images)   # To grayscale\n",
        "\n",
        "train_images = train_images / 255.0         # Normalize images\n",
        "test_images = test_images / 255.0           # Normalize images\n",
        "\n",
        "\n",
        "# Building the model\n",
        "# Setting up the layers\n",
        "#NN Model properties:\n",
        "#Layer 1: 128 Neurons, Relu activation\n",
        "#Layer 2: 128 Neurons, Relu activation\n",
        "#Layer 3: 128 Neurons, Relu activation\n",
        "#Layer 4: 10 Neurons, softmax activation\n",
        "model = keras.Sequential([\n",
        "    keras.layers.Flatten(input_shape=(32, 32, 3)),  # 3 -> Allows colour images\n",
        "    keras.layers.Dense(128, activation='relu'),\n",
        "    keras.layers.Dense(128, activation='relu'),\n",
        "    keras.layers.Dense(128, activation='relu'),\n",
        "    keras.layers.Dense(10, activation='softmax')\n",
        "])\n",
        "\n",
        "# Compiling the model\n",
        "model.compile(optimizer='adam',\n",
        "              loss='sparse_categorical_crossentropy',\n",
        "              metrics=['accuracy'])\n",
        "\n",
        "# Training the model\n",
        "model.fit(train_images, train_labels, epochs=10)\n",
        "\n",
        "# Evaluating accuracy\n",
        "test_loss, test_acc = model.evaluate(test_images,  test_labels, verbose=2)\n",
        "print('\\nTest accuracy:', test_acc)"
      ],
      "execution_count": 11,
      "outputs": [
        {
          "output_type": "stream",
          "text": [
            "Train on 50000 samples\n",
            "Epoch 1/10\n",
            "50000/50000 [==============================] - 8s 161us/sample - loss: 1.8608 - acc: 0.3213\n",
            "Epoch 2/10\n",
            "50000/50000 [==============================] - 8s 163us/sample - loss: 1.6877 - acc: 0.3920\n",
            "Epoch 3/10\n",
            "50000/50000 [==============================] - 8s 156us/sample - loss: 1.6071 - acc: 0.4230\n",
            "Epoch 4/10\n",
            "50000/50000 [==============================] - 8s 155us/sample - loss: 1.5639 - acc: 0.4366\n",
            "Epoch 5/10\n",
            "50000/50000 [==============================] - 8s 159us/sample - loss: 1.5297 - acc: 0.4494\n",
            "Epoch 6/10\n",
            "50000/50000 [==============================] - 8s 158us/sample - loss: 1.5066 - acc: 0.4611\n",
            "Epoch 7/10\n",
            "50000/50000 [==============================] - 8s 155us/sample - loss: 1.4823 - acc: 0.4682\n",
            "Epoch 8/10\n",
            "50000/50000 [==============================] - 8s 158us/sample - loss: 1.4619 - acc: 0.4745\n",
            "Epoch 9/10\n",
            "50000/50000 [==============================] - 8s 159us/sample - loss: 1.4470 - acc: 0.4799\n",
            "Epoch 10/10\n",
            "50000/50000 [==============================] - 8s 160us/sample - loss: 1.4284 - acc: 0.4861\n",
            "10000/10000 - 1s - loss: 1.4745 - acc: 0.4700\n",
            "\n",
            "Test accuracy: 0.47\n"
          ],
          "name": "stdout"
        }
      ]
    }
  ]
}