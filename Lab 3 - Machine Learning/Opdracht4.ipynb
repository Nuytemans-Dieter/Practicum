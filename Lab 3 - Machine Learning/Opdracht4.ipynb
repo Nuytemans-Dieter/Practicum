{
  "nbformat": 4,
  "nbformat_minor": 0,
  "metadata": {
    "colab": {
      "name": "Opdracht4.ipynb",
      "provenance": [],
      "collapsed_sections": []
    },
    "kernelspec": {
      "name": "python3",
      "display_name": "Python 3"
    }
  },
  "cells": [
    {
      "cell_type": "code",
      "metadata": {
        "id": "9MZRdpw4JpOE",
        "colab_type": "code",
        "colab": {
          "base_uri": "https://localhost:8080/",
          "height": 433
        },
        "outputId": "962b3911-93b4-4916-9889-590efefb57ad"
      },
      "source": [
        "from __future__ import absolute_import, division, print_function, unicode_literals\n",
        "\n",
        "# TensorFlow and tf.keras\n",
        "import tensorflow as tf\n",
        "from tensorflow import keras\n",
        "\n",
        "# Helper libraries\n",
        "import numpy as np\n",
        "import matplotlib.pyplot as plt\n",
        "\n",
        "fashion_mnist = keras.datasets.fashion_mnist\n",
        "\n",
        "(train_images, train_labels), (test_images, test_labels) = fashion_mnist.load_data()\n",
        "\n",
        "class_names = ['T-shirt/top', 'Trouser', 'Pullover', 'Dress', 'Coat',\n",
        "               'Sandal', 'Shirt', 'Sneaker', 'Bag', 'Ankle boot']\n",
        "\n",
        "# Preprocessing \n",
        "train_images = train_images / 255.0\n",
        "test_images = test_images / 255.0\n",
        "\n",
        "# Building the model\n",
        "# Setting up the layers\n",
        "model = keras.Sequential([\n",
        "    keras.layers.Flatten(input_shape=(28, 28)),\n",
        "    keras.layers.Dense(256, activation='relu'),\n",
        "    keras.layers.Dense(128, activation='relu'),\n",
        "    keras.layers.Dense(10, activation='softmax')\n",
        "])\n",
        "\n",
        "# Compiling the model\n",
        "model.compile(optimizer='adam',\n",
        "              loss='sparse_categorical_crossentropy',\n",
        "              metrics=['accuracy'])\n",
        "\n",
        "# Training the model\n",
        "model.fit(train_images, train_labels, epochs=10)\n",
        "\n",
        "# Evaluating accuracy\n",
        "test_loss, test_acc = model.evaluate(test_images,  test_labels, verbose=2)\n",
        "print('\\nTest accuracy:', test_acc)"
      ],
      "execution_count": 3,
      "outputs": [
        {
          "output_type": "stream",
          "text": [
            "Train on 60000 samples\n",
            "Epoch 1/10\n",
            "60000/60000 [==============================] - 8s 130us/sample - loss: 0.4805 - acc: 0.8277\n",
            "Epoch 2/10\n",
            "60000/60000 [==============================] - 8s 135us/sample - loss: 0.3596 - acc: 0.8672\n",
            "Epoch 3/10\n",
            "60000/60000 [==============================] - 8s 139us/sample - loss: 0.3249 - acc: 0.8806\n",
            "Epoch 4/10\n",
            "60000/60000 [==============================] - 9s 143us/sample - loss: 0.2980 - acc: 0.8889\n",
            "Epoch 5/10\n",
            "60000/60000 [==============================] - 8s 137us/sample - loss: 0.2840 - acc: 0.8952\n",
            "Epoch 6/10\n",
            "60000/60000 [==============================] - 8s 129us/sample - loss: 0.2676 - acc: 0.8993\n",
            "Epoch 7/10\n",
            "60000/60000 [==============================] - 8s 135us/sample - loss: 0.2554 - acc: 0.9041\n",
            "Epoch 8/10\n",
            "60000/60000 [==============================] - 8s 132us/sample - loss: 0.2439 - acc: 0.9078\n",
            "Epoch 9/10\n",
            "60000/60000 [==============================] - 8s 126us/sample - loss: 0.2339 - acc: 0.9121\n",
            "Epoch 10/10\n",
            "60000/60000 [==============================] - 8s 128us/sample - loss: 0.2257 - acc: 0.9139\n",
            "10000/10000 - 0s - loss: 0.3253 - acc: 0.8841\n",
            "\n",
            "Test accuracy: 0.8841\n"
          ],
          "name": "stdout"
        }
      ]
    }
  ]
}