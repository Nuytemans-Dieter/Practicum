{
  "nbformat": 4,
  "nbformat_minor": 0,
  "metadata": {
    "colab": {
      "name": "Opdracht6.ipynb",
      "provenance": [],
      "collapsed_sections": []
    },
    "kernelspec": {
      "name": "python3",
      "display_name": "Python 3"
    }
  },
  "cells": [
    {
      "cell_type": "code",
      "metadata": {
        "id": "d8EPUCyux7Hi",
        "colab_type": "code",
        "colab": {
          "base_uri": "https://localhost:8080/",
          "height": 433
        },
        "outputId": "c08d51ee-f16a-4609-982a-3845e48b6aeb"
      },
      "source": [
        "from __future__ import absolute_import, division, print_function, unicode_literals\n",
        "\n",
        "# TensorFlow and tf.keras\n",
        "import tensorflow as tf\n",
        "from tensorflow import keras\n",
        "\n",
        "# Helper libraries\n",
        "import numpy as np\n",
        "import matplotlib.pyplot as plt\n",
        "\n",
        "mnist = keras.datasets.mnist                                                  # Select handwriting dataset\n",
        "(train_images, train_labels), (test_images, test_labels) = mnist.load_data()  # Load data\n",
        "labels = np.arange(10)                                                        # Create labels for each number\n",
        "\n",
        "# Preprocessing \n",
        "train_images = train_images / 255.0   # Normalize images\n",
        "test_images = test_images / 255.0     # Normalize images\n",
        "\n",
        "# Building the model\n",
        "# Setting up the model as in the example\n",
        "model = keras.Sequential([\n",
        "    keras.layers.Flatten(input_shape=(28, 28)),\n",
        "    keras.layers.Dense(128, activation='relu'),\n",
        "    keras.layers.Dense(10, activation='softmax')\n",
        "])\n",
        "\n",
        "# Compiling the model\n",
        "model.compile(optimizer='adam',\n",
        "              loss='sparse_categorical_crossentropy',\n",
        "              metrics=['accuracy'])\n",
        "\n",
        "# Training the model\n",
        "model.fit(train_images, train_labels, epochs=10)\n",
        "\n",
        "# Evaluating accuracy\n",
        "test_loss, test_acc = model.evaluate(test_images,  test_labels, verbose=2)\n",
        "print('\\nTest accuracy:', test_acc)"
      ],
      "execution_count": 11,
      "outputs": [
        {
          "output_type": "stream",
          "text": [
            "Train on 60000 samples\n",
            "Epoch 1/10\n",
            "60000/60000 [==============================] - 4s 62us/sample - loss: 0.2581 - acc: 0.9265\n",
            "Epoch 2/10\n",
            "60000/60000 [==============================] - 4s 61us/sample - loss: 0.1127 - acc: 0.9668\n",
            "Epoch 3/10\n",
            "60000/60000 [==============================] - 4s 60us/sample - loss: 0.0770 - acc: 0.9769\n",
            "Epoch 4/10\n",
            "60000/60000 [==============================] - 4s 60us/sample - loss: 0.0581 - acc: 0.9825\n",
            "Epoch 5/10\n",
            "60000/60000 [==============================] - 4s 60us/sample - loss: 0.0452 - acc: 0.9857\n",
            "Epoch 6/10\n",
            "60000/60000 [==============================] - 4s 60us/sample - loss: 0.0350 - acc: 0.9894\n",
            "Epoch 7/10\n",
            "60000/60000 [==============================] - 4s 63us/sample - loss: 0.0280 - acc: 0.9913\n",
            "Epoch 8/10\n",
            "60000/60000 [==============================] - 4s 64us/sample - loss: 0.0236 - acc: 0.9925\n",
            "Epoch 9/10\n",
            "60000/60000 [==============================] - 4s 60us/sample - loss: 0.0185 - acc: 0.9942\n",
            "Epoch 10/10\n",
            "60000/60000 [==============================] - 4s 61us/sample - loss: 0.0166 - acc: 0.9949\n",
            "10000/10000 - 0s - loss: 0.0887 - acc: 0.9767\n",
            "\n",
            "Test accuracy: 0.9767\n"
          ],
          "name": "stdout"
        }
      ]
    }
  ]
}