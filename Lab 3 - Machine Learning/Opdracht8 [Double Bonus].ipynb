{
  "nbformat": 4,
  "nbformat_minor": 0,
  "metadata": {
    "colab": {
      "name": "Bonus bonus Q2.ipynb",
      "provenance": [],
      "collapsed_sections": []
    },
    "kernelspec": {
      "name": "python3",
      "display_name": "Python 3"
    }
  },
  "cells": [
    {
      "cell_type": "code",
      "metadata": {
        "id": "VMnkSsMXMi29",
        "colab_type": "code",
        "colab": {
          "base_uri": "https://localhost:8080/",
          "height": 433
        },
        "outputId": "ba7e5a25-5ade-4b00-e32d-87196d1ec9ed"
      },
      "source": [
        "from __future__ import absolute_import, division, print_function, unicode_literals\n",
        "\n",
        "# TensorFlow and tf.keras\n",
        "import tensorflow as tf\n",
        "from tensorflow.keras import datasets, layers, models\n",
        "\n",
        "# Helper libraries\n",
        "import numpy as np\n",
        "import matplotlib.pyplot as plt\n",
        "\n",
        "mnist = tf.keras.datasets.cifar10\n",
        "(train_images, train_labels), (test_images, test_labels) = mnist.load_data()  # Load data\n",
        "labels = np.arange(10)                                                        # Create labels for each number\n",
        "\n",
        "\n",
        "# Preprocessing \n",
        "train_images = train_images / 255.0         # Normalize images\n",
        "test_images = test_images / 255.0           # Normalize images\n",
        "\n",
        "\n",
        "# Building the model\n",
        "model = models.Sequential()\n",
        "model.add(layers.Conv2D(32, (3, 3), activation='relu', input_shape=(32, 32, 3)))  # 32x32 AND color\n",
        "model.add(layers.MaxPooling2D((2, 2)))\n",
        "model.add(layers.Conv2D(64, (3, 3), activation='relu'))\n",
        "model.add(layers.MaxPooling2D((2, 2)))\n",
        "model.add(layers.Conv2D(64, (3, 3), activation='relu'))\n",
        "\n",
        "# Setting up the layers\n",
        "model.add(layers.Flatten())\n",
        "model.add(layers.Dense(64, activation='relu'))\n",
        "model.add(layers.Dense(10, activation='softmax'))\n",
        "\n",
        "# Compile the model\n",
        "model.compile(optimizer='adam',\n",
        "              loss='sparse_categorical_crossentropy',\n",
        "              metrics=['accuracy'])\n",
        "\n",
        "# Train the model\n",
        "history = model.fit(train_images, train_labels, epochs=10, \n",
        "                    validation_data=(test_images, test_labels))\n",
        "\n",
        "# Evaluating accuracy\n",
        "test_loss, test_acc = model.evaluate(test_images,  test_labels, verbose=2)\n",
        "print('\\nTest accuracy:', test_acc)"
      ],
      "execution_count": 3,
      "outputs": [
        {
          "output_type": "stream",
          "text": [
            "Train on 50000 samples, validate on 10000 samples\n",
            "Epoch 1/10\n",
            "50000/50000 [==============================] - 74s 1ms/sample - loss: 1.5409 - acc: 0.4374 - val_loss: 1.2719 - val_acc: 0.5425\n",
            "Epoch 2/10\n",
            "50000/50000 [==============================] - 73s 1ms/sample - loss: 1.1778 - acc: 0.5844 - val_loss: 1.0771 - val_acc: 0.6179\n",
            "Epoch 3/10\n",
            "50000/50000 [==============================] - 72s 1ms/sample - loss: 1.0255 - acc: 0.6399 - val_loss: 0.9783 - val_acc: 0.6588\n",
            "Epoch 4/10\n",
            "50000/50000 [==============================] - 72s 1ms/sample - loss: 0.9299 - acc: 0.6730 - val_loss: 1.0080 - val_acc: 0.6501\n",
            "Epoch 5/10\n",
            "50000/50000 [==============================] - 72s 1ms/sample - loss: 0.8577 - acc: 0.6976 - val_loss: 0.9478 - val_acc: 0.6660\n",
            "Epoch 6/10\n",
            "50000/50000 [==============================] - 71s 1ms/sample - loss: 0.8007 - acc: 0.7199 - val_loss: 0.8856 - val_acc: 0.6980\n",
            "Epoch 7/10\n",
            "50000/50000 [==============================] - 72s 1ms/sample - loss: 0.7528 - acc: 0.7354 - val_loss: 0.8709 - val_acc: 0.7029\n",
            "Epoch 8/10\n",
            "50000/50000 [==============================] - 71s 1ms/sample - loss: 0.7057 - acc: 0.7525 - val_loss: 0.9199 - val_acc: 0.6892\n",
            "Epoch 9/10\n",
            "50000/50000 [==============================] - 71s 1ms/sample - loss: 0.6687 - acc: 0.7652 - val_loss: 0.8568 - val_acc: 0.7116\n",
            "Epoch 10/10\n",
            "50000/50000 [==============================] - 71s 1ms/sample - loss: 0.6370 - acc: 0.7754 - val_loss: 0.8720 - val_acc: 0.7157\n",
            "10000/10000 - 4s - loss: 0.8720 - acc: 0.7157\n",
            "\n",
            "Test accuracy: 0.7157\n"
          ],
          "name": "stdout"
        }
      ]
    }
  ]
}