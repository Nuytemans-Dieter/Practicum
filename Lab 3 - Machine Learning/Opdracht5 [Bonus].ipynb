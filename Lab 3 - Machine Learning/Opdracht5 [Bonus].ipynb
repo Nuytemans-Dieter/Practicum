{
  "nbformat": 4,
  "nbformat_minor": 0,
  "metadata": {
    "colab": {
      "name": "Opdracht5.ipynb",
      "provenance": [],
      "collapsed_sections": []
    },
    "kernelspec": {
      "name": "python3",
      "display_name": "Python 3"
    }
  },
  "cells": [
    {
      "cell_type": "code",
      "metadata": {
        "id": "pxd-NijjM-nJ",
        "colab_type": "code",
        "outputId": "89d65833-48b0-4de8-d722-0463330570bb",
        "colab": {
          "base_uri": "https://localhost:8080/",
          "height": 1000
        }
      },
      "source": [
        "from __future__ import absolute_import, division, print_function, unicode_literals\n",
        "\n",
        "# TensorFlow and tf.keras\n",
        "import tensorflow as tf\n",
        "from tensorflow import keras\n",
        "\n",
        "# Helper libraries\n",
        "import numpy as np\n",
        "import matplotlib.pyplot as plt\n",
        "\n",
        "fashion_mnist = keras.datasets.fashion_mnist\n",
        "\n",
        "(train_images, train_labels), (test_images, test_labels) = fashion_mnist.load_data()\n",
        "\n",
        "class_names = ['T-shirt/top', 'Trouser', 'Pullover', 'Dress', 'Coat',\n",
        "               'Sandal', 'Shirt', 'Sneaker', 'Bag', 'Ankle boot']\n",
        "\n",
        "# Preprocessing \n",
        "train_images = train_images / 255.0\n",
        "test_images = test_images / 255.0\n",
        "\n",
        "# Building the model\n",
        "# Setting up the layers\n",
        "model = keras.Sequential([\n",
        "    keras.layers.Flatten(input_shape=(28, 28)),\n",
        "    keras.layers.Dense(256, activation='relu'),\n",
        "    keras.layers.Dense(128, activation='relu'),\n",
        "    keras.layers.Dense(10, activation='softmax')\n",
        "])\n",
        "\n",
        "# Compiling the model\n",
        "model.compile(optimizer='adam',\n",
        "              loss='sparse_categorical_crossentropy',\n",
        "              metrics=['accuracy'])\n",
        "\n",
        "# Training the model\n",
        "model.fit(train_images, train_labels, epochs=10)\n",
        "\n",
        "# Evaluating accuracy\n",
        "test_loss, test_acc = model.evaluate(test_images,  test_labels, verbose=2)\n",
        "print('\\nTest accuracy:', test_acc)\n",
        "\n",
        "# Use an image that was earlier uploaded to CoLab. Image MUST be 28x28\n",
        "import cv2\n",
        "#img_path = \"Schoen.jpg\"                                       # Path to test image (must be uploaded first) \n",
        "img_path = \"Sandaal.jpg\"\n",
        "test_img = cv2.imread( img_path )                             # Open test image\n",
        "from skimage import color\n",
        "test_img = color.rgb2gray(test_img)                           # Convert to grayscale\n",
        "test_img = test_img / 255.0                                   # Normalize image\n",
        "\n",
        "prediction = model.predict(np.expand_dims(test_img, axis=0), batch_size=1)  # Perform the prediction but add a dimension to the image as the networks requires an ID for each entry\n",
        "#print(prediction)                     # Print the likeliness of each category\n",
        "\n",
        "class_id = np.argmax(prediction[0])\n",
        "certainty = prediction[0][class_id] * 100\n",
        "print(\"The image is guessed to be a\", class_names[ class_id ], \"with a certainty of\", round(certainty, 2), \"%\")\n",
        "\n",
        "plt.imshow( test_img )\n",
        "plt.xlabel(\"Input image\")\n",
        "plt.yticks(ticks=None, labels=None)\n",
        "plt.xticks(ticks=None, labels=None)\n",
        "plt.show()\n",
        "\n",
        "\n",
        "plt.xlabel(\"Category\")\n",
        "plt.ylabel(\"Certainty [%]\")\n",
        "\n",
        "x = np.arange(10)\n",
        "\n",
        "plt.bar(x, prediction[0] * 100)\n",
        "plt.xticks(x, class_names)\n",
        "plt.setp(plt.gca().get_xticklabels(), rotation=30, horizontalalignment='right', fontsize='medium')\n",
        "plt.show()\n",
        "\n",
        "\n",
        "\n",
        "\n",
        "\n",
        "\n"
      ],
      "execution_count": 70,
      "outputs": [
        {
          "output_type": "stream",
          "text": [
            "Train on 60000 samples\n",
            "Epoch 1/10\n",
            "60000/60000 [==============================] - 10s 170us/sample - loss: 0.4794 - acc: 0.8256\n",
            "Epoch 2/10\n",
            "60000/60000 [==============================] - 10s 161us/sample - loss: 0.3591 - acc: 0.8675\n",
            "Epoch 3/10\n",
            "60000/60000 [==============================] - 9s 156us/sample - loss: 0.3243 - acc: 0.8793\n",
            "Epoch 4/10\n",
            "60000/60000 [==============================] - 9s 158us/sample - loss: 0.2996 - acc: 0.8883\n",
            "Epoch 5/10\n",
            "60000/60000 [==============================] - 10s 160us/sample - loss: 0.2813 - acc: 0.8946\n",
            "Epoch 6/10\n",
            "60000/60000 [==============================] - 10s 159us/sample - loss: 0.2689 - acc: 0.8983\n",
            "Epoch 7/10\n",
            "60000/60000 [==============================] - 10s 163us/sample - loss: 0.2565 - acc: 0.9039\n",
            "Epoch 8/10\n",
            "60000/60000 [==============================] - 11s 181us/sample - loss: 0.2460 - acc: 0.9072\n",
            "Epoch 9/10\n",
            "60000/60000 [==============================] - 10s 171us/sample - loss: 0.2333 - acc: 0.9116\n",
            "Epoch 10/10\n",
            "60000/60000 [==============================] - 10s 170us/sample - loss: 0.2239 - acc: 0.9156\n",
            "10000/10000 - 1s - loss: 0.3379 - acc: 0.8850\n",
            "\n",
            "Test accuracy: 0.885\n",
            "The image is guessed to be a Sandal with a certainty of 94.79 %\n"
          ],
          "name": "stdout"
        },
        {
          "output_type": "display_data",
          "data": {
            "image/png": "[encoded data removed]",
            "text/plain": [
              "<Figure size 432x288 with 1 Axes>"
            ]
          },
          "metadata": {
            "tags": []
          }
        },
        {
          "output_type": "display_data",
          "data": {
            "image/png": "[encoded data removed]",
            "text/plain": [
              "<Figure size 432x288 with 1 Axes>"
            ]
          },
          "metadata": {
            "tags": []
          }
        }
      ]
    }
  ]
}